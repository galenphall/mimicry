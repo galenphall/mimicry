{
 "cells": [
  {
   "cell_type": "code",
   "execution_count": 3,
   "id": "350365cb-2616-4963-9445-8bc3f767fc91",
   "metadata": {},
   "outputs": [],
   "source": [
    "from multispecies import *"
   ]
  },
  {
   "cell_type": "code",
   "execution_count": 4,
   "id": "5ce248f9-054b-45d9-9442-27e319a958df",
   "metadata": {},
   "outputs": [],
   "source": [
    "import numpy as np\n",
    "from tqdm import tqdm\n",
    "import datetime \n",
    "import matplotlib.pyplot as plt\n",
    "from scipy.stats import pearsonr, spearmanr, poisson\n",
    "from scipy.special import softmax\n",
    "from sklearn.metrics.pairwise import cosine_similarity\n",
    "from sklearn.metrics import pairwise_distances\n",
    "from matplotlib import animation\n",
    "from IPython.display import HTML\n",
    "import pandas as pd\n",
    "from numba import jit"
   ]
  },
  {
   "cell_type": "code",
   "execution_count": 16,
   "id": "09c45e5d-982d-4329-a14b-73b2acd1d434",
   "metadata": {},
   "outputs": [
    {
     "name": "stderr",
     "output_type": "stream",
     "text": [
      "  5%|█▉                                       | 95/2000 [00:04<01:32, 20.68it/s]/Users/ejhall2/Desktop/mimicry/multispecies.py:208: RuntimeWarning: divide by zero encountered in scalar divide\n",
      "  fitnesses[start:end] = popcaps[i] / species_sizes[i] * np.prod(1 - predation_matrix[:, start:end], 0)\n",
      "100%|██████████████████████████████████████| 2000/2000 [00:16<00:00, 124.33it/s]\n"
     ]
    }
   ],
   "source": [
    "import numpy as np\n",
    "from tqdm import tqdm\n",
    "\n",
    "# Initialize population parameters\n",
    "species_params = {\n",
    "    'predators': [\n",
    "        {\n",
    "            'num': 100,\n",
    "            'detector_mean': np.array([0, 1]),\n",
    "            'detector_cov': 0.4**2 * np.eye(2),\n",
    "            'risk_tol_mean': 1000.0\n",
    "        }\n",
    "    ],\n",
    "    'prey': [\n",
    "        {\n",
    "            'num': 1000,\n",
    "            'signal_mean': np.array([1 / np.sqrt(2), -1 / np.sqrt(2)]),\n",
    "            'signal_cov': 0.4**2 * np.eye(2),\n",
    "            'venom_level': 0.3\n",
    "        },\n",
    "        {\n",
    "            'num': 1000,\n",
    "            'signal_mean': np.array([-1 / np.sqrt(2), -1 / np.sqrt(2)]),\n",
    "            'signal_cov': 0.4**2 * np.eye(2),\n",
    "            'venom_level': 0.0\n",
    "        },\n",
    "        {\n",
    "            'num': 1000,\n",
    "            'signal_mean': np.array([-1 / np.sqrt(2), 1 / np.sqrt(2)]),\n",
    "            'signal_cov': 0.4**2 * np.eye(2),\n",
    "            'venom_level': 0.1\n",
    "        },\n",
    "        {\n",
    "            'num': 1000,\n",
    "            'signal_mean': np.array([1 / np.sqrt(2), 1 / np.sqrt(2)]),\n",
    "            'signal_cov': 0.4**2 * np.eye(2),\n",
    "            'venom_level': 0.0\n",
    "        },\n",
    "    ]\n",
    "}\n",
    "\n",
    "num_generations = 2000\n",
    "handling_times = np.array([0.3])  # One for each predator species\n",
    "attack_freqs = np.array([0.3])    # One for each predator species\n",
    "mutation_rates = {'predators': 0.1, 'prey': 0.1}\n",
    "predator_conversion_ratios = np.array([0.5])  # One for each predator species\n",
    "prey_popcaps = np.array([500, 1000, 500, 1000])  # One for each prey species\n",
    "periodic_boundary = 2\n",
    "\n",
    "np.random.seed(10)\n",
    "\n",
    "detectors, signals, risk_tols, venom_levels, species_indices = generate(species_params)\n",
    "\n",
    "history = {\n",
    "    'detectors': [detectors],\n",
    "    'signals': [signals],\n",
    "    'risk_tols': [risk_tols],\n",
    "    'venom_levels': [venom_levels],\n",
    "    'species_indices': [species_indices]\n",
    "}\n",
    "\n",
    "for t in tqdm(range(num_generations)):\n",
    "    d, s, r, v, si = update(\n",
    "        history['detectors'][-1], \n",
    "        history['signals'][-1], \n",
    "        history['risk_tols'][-1], \n",
    "        history['venom_levels'][-1], \n",
    "        history['species_indices'][-1],\n",
    "        handling_times=handling_times,\n",
    "        attack_freqs=attack_freqs,\n",
    "        predator_conversion_ratios=predator_conversion_ratios,\n",
    "        prey_popcaps=prey_popcaps,\n",
    "        mutation_rates=mutation_rates,\n",
    "        phenotype_type='vector',\n",
    "        periodic_boundary=periodic_boundary,\n",
    "    )\n",
    "    \n",
    "    history['detectors'].append(d)\n",
    "    history['signals'].append(s)\n",
    "    history['risk_tols'].append(r)\n",
    "    history['venom_levels'].append(v)\n",
    "    history['species_indices'].append(si)"
   ]
  },
  {
   "cell_type": "code",
   "execution_count": 15,
   "id": "ea73e77a-f7b6-4f97-947f-222b795c406f",
   "metadata": {},
   "outputs": [
    {
     "data": {
      "text/html": [
       "<div>\n",
       "<style scoped>\n",
       "    .dataframe tbody tr th:only-of-type {\n",
       "        vertical-align: middle;\n",
       "    }\n",
       "\n",
       "    .dataframe tbody tr th {\n",
       "        vertical-align: top;\n",
       "    }\n",
       "\n",
       "    .dataframe thead th {\n",
       "        text-align: right;\n",
       "    }\n",
       "</style>\n",
       "<table border=\"1\" class=\"dataframe\">\n",
       "  <thead>\n",
       "    <tr style=\"text-align: right;\">\n",
       "      <th></th>\n",
       "      <th>predators</th>\n",
       "      <th>prey</th>\n",
       "    </tr>\n",
       "  </thead>\n",
       "  <tbody>\n",
       "    <tr>\n",
       "      <th>0</th>\n",
       "      <td>(0, 0)</td>\n",
       "      <td>(0, 492)</td>\n",
       "    </tr>\n",
       "    <tr>\n",
       "      <th>1</th>\n",
       "      <td>NaN</td>\n",
       "      <td>(492, 1494)</td>\n",
       "    </tr>\n",
       "    <tr>\n",
       "      <th>2</th>\n",
       "      <td>NaN</td>\n",
       "      <td>(1494, 2017)</td>\n",
       "    </tr>\n",
       "    <tr>\n",
       "      <th>3</th>\n",
       "      <td>NaN</td>\n",
       "      <td>(2017, 2017)</td>\n",
       "    </tr>\n",
       "  </tbody>\n",
       "</table>\n",
       "</div>"
      ],
      "text/plain": [
       "  predators          prey\n",
       "0    (0, 0)      (0, 492)\n",
       "1       NaN   (492, 1494)\n",
       "2       NaN  (1494, 2017)\n",
       "3       NaN  (2017, 2017)"
      ]
     },
     "execution_count": 15,
     "metadata": {},
     "output_type": "execute_result"
    }
   ],
   "source": [
    "pd.DataFrame(history['species_indices'][900])"
   ]
  },
  {
   "cell_type": "code",
   "execution_count": null,
   "id": "35fb70fe-d342-4c7c-a4b9-80f01c1de98b",
   "metadata": {},
   "outputs": [],
   "source": []
  }
 ],
 "metadata": {
  "kernelspec": {
   "display_name": "Python 3 (ipykernel)",
   "language": "python",
   "name": "python3"
  },
  "language_info": {
   "codemirror_mode": {
    "name": "ipython",
    "version": 3
   },
   "file_extension": ".py",
   "mimetype": "text/x-python",
   "name": "python",
   "nbconvert_exporter": "python",
   "pygments_lexer": "ipython3",
   "version": "3.12.2"
  }
 },
 "nbformat": 4,
 "nbformat_minor": 5
}
