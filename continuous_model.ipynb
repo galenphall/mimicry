{
 "cells": [
  {
   "cell_type": "code",
   "execution_count": 1,
   "id": "da7338dc-b53f-42e4-809d-9b8df49b5bea",
   "metadata": {},
   "outputs": [],
   "source": [
    "import numpy as np\n",
    "from matplotlib import pyplot as plt\n",
    "from scipy import sparse\n",
    "from tqdm import tqdm\n",
    "import seaborn as sns"
   ]
  },
  {
   "cell_type": "code",
   "execution_count": 59,
   "id": "faa5ade2-e4c6-4b14-abcf-a52bbc9d52ec",
   "metadata": {},
   "outputs": [],
   "source": [
    "def effective_prey(S, M, V):\n",
    "    T = M + V # Total prey at each phenotype\n",
    "    return T[None, None, :, :] * S\n",
    "\n",
    "def predation_matrix(S, effective_prey, R, a=1, h=0.5, c=0.1):\n",
    "    D = a * effective_prey / (1 \n",
    "          + c * np.sum(effective_prey, axis=(0, 1))[None, None, :, :]\n",
    "          + a*h*(R + effective_prey.sum(axis = (2, 3))[:, :, None, None]))\n",
    "    return D\n",
    "\n",
    "def update_predators(P, M, V, R, D, v, a, h, c, effective_prey, eta=0.85, d=0.2, mr=0.001, cutoff=1e-6, dt=0.01):\n",
    "\n",
    "    T = M + V\n",
    "    v_adj = V * v / T # adjusted venomosity at given phenotype\n",
    "    v_adj = np.nan_to_num(v_adj)[None, None, :, :]\n",
    "\n",
    "    # contribution from M, V\n",
    "    dP = (D * (eta * (1 - v_adj) - v_adj)).sum(axis=(2,3)) - P * d\n",
    "\n",
    "    # contribution from R\n",
    "    Np = np.sum(P)\n",
    "    dP += eta * P * a * R / (1 \n",
    "                             + c * Np \n",
    "                             + a*h*(R + effective_prey.sum(axis = (2, 3))))\n",
    "    \n",
    "    # assert np.all(~np.isnan(prey_eaten))\n",
    "    # assert np.all(~np.isnan(v_adj))\n",
    "    # assert np.all(~np.isnan(dP))\n",
    "\n",
    "    P_new = P + dP * dt\n",
    "    P_new[P_new < cutoff] = 0\n",
    "\n",
    "    P_new = mutate_phenotype(P_new, mr, dt)\n",
    "    \n",
    "    return P_new\n",
    "\n",
    "def update_prey(V, M, D, r=1, K=1000, mr=0.01, cutoff=1e-6, dt=0.01):\n",
    "\n",
    "    T = M + V\n",
    "    pv = V / T\n",
    "    pv = np.nan_to_num(pv)\n",
    "    pm = M / T\n",
    "    pm = np.nan_to_num(pm)\n",
    "    \n",
    "    predation = D.sum(axis=(0, 1))\n",
    "\n",
    "    dV = V * r * (1 - np.sum(V) / K) - predation * pv\n",
    "    dM = M * r * (1 - np.sum(M) / K) - predation * pm\n",
    "\n",
    "    V = V + dV * dt\n",
    "    V[V < cutoff] = 0\n",
    "    V = mutate_phenotype(V, mr, dt)\n",
    "\n",
    "    M = M + dM * dt\n",
    "    M[M < cutoff] = 0\n",
    "    M = mutate_phenotype(M, mr, dt)\n",
    "\n",
    "    return V, M\n",
    "\n",
    "def update_R(R, P, r, K, effective_prey, a, h, c, cutoff=1e-6, dt=0.01):\n",
    "    Np = np.sum(P)\n",
    "    dR_i = - P * a * R / (1 \n",
    "                  + c * Np \n",
    "                  + a*h*(R + effective_prey.sum(axis = (2, 3))))\n",
    "    dR = np.sum(dR_i)\n",
    "    # assert not np.isnan(dR), dR_i\n",
    "    dR += R * r * (1 - R / K)\n",
    "    R_new = R + dR * dt\n",
    "    if R_new < cutoff:\n",
    "        return 0\n",
    "    else:\n",
    "        return R_new\n",
    "\n",
    "def torus_mat(A):\n",
    "    L = len(A)\n",
    "    A_padded = np.zeros((L+2, L+2))\n",
    "    A_padded[1:L+1, 1:L+1] = A\n",
    "    A_padded[L+1, 1:L+1] = A[0]\n",
    "    A_padded[0, 1:L+1] = A[L-1]\n",
    "    A_padded[1:L+1, 0] = A[:,L-1]\n",
    "    A_padded[1:L+1, L+1] = A[:,0]\n",
    "    return A_padded\n",
    "    \n",
    "\n",
    "def mutate_phenotype(A, mr, dt):\n",
    "\n",
    "    L = len(A)\n",
    "    A_padded = torus_mat(A)\n",
    "    Tx = mr * np.random.normal(0, dt**0.5, size=(L, L))\n",
    "    Tx_padded = torus_mat(Tx)\n",
    "    Ty = mr * np.random.normal(0, dt**0.5, size=(L, L))\n",
    "    Ty_padded = torus_mat(Ty)\n",
    "    dx_down = Tx_padded * A_padded\n",
    "    dy_down = Ty_padded * A_padded\n",
    "\n",
    "    # Tx = mr * np.random.normal(0, dt**0.5, size=(L, L))\n",
    "    # Tx_padded = torus_mat(Tx)\n",
    "    # Ty = mr * np.random.normal(0, dt**0.5, size=(L, L))\n",
    "    # Ty_padded = torus_mat(Ty)\n",
    "    # dx_up = Tx_padded * A_padded\n",
    "    # dy_up = Ty_padded * A_padded\n",
    "\n",
    "    update = (dx_down[1:L+1,0:L] + dx_down[1:L+1,2:L+2] - dx_down[1:L+1,0:L] + dy_down[0:L,1:L+1] - dy_down[1:L+1,1:L+1])\n",
    "    # A_padded += Tx_padded\n",
    "    # update = mr * np.mean([A[:, :, None] - A_padded[2:L+2, 1:L+1, None],\n",
    "    #                   A[:, :, None] - A_padded[0:L, 1:L+1, None],\n",
    "    #                   A[:, :, None] - A_padded[1:L+1, 2:L+2, None],\n",
    "    #                   A[:, :, None] - A_padded[1:L+1, 0:L, None]])\n",
    "    \n",
    "    assert np.isclose(np.sum(update),0), np.sum(update)\n",
    "\n",
    "    return A + update\n",
    "\n",
    "def update(S, P, V, M, R, v, \n",
    "           a=1, h=0.5, c=0.1, eta=0.85, d=0.2, \n",
    "           r_prey=1, K_prey=1000, r_R=1, K_R = 1000,\n",
    "          mr=0.01, mr_P=0.01, dt=0.1, cutoff=1e-3):\n",
    "\n",
    "    ep = effective_prey(S, M, V)\n",
    "    # assert np.all(~np.isnan(ep))\n",
    "    D = predation_matrix(S, ep, R, a, h, c)\n",
    "    D = P[:, :, None, None] * D\n",
    "    # assert np.all(~np.isnan(D))\n",
    "    P_new = update_predators(P, M, V, R, D, v, a, h, c, ep, eta, d, mr_P, cutoff=cutoff, dt=dt)\n",
    "    # assert np.all(~np.isnan(P_new))\n",
    "    V_new, M_new = update_prey(V, M, D, r_prey, K_prey, mr, cutoff=cutoff, dt=dt)\n",
    "    # assert np.all(~np.isnan(V_new))\n",
    "    # assert np.all(~np.isnan(M_new))\n",
    "    R_new = update_R(R, P, r_R, K_R, ep, a, h, c, cutoff=cutoff, dt=dt)\n",
    "\n",
    "    return P_new, V_new, M_new, R_new, D\n",
    "\n",
    "# define a lattice representing phenotype space\n",
    "def make_lattice(gridsize, length, ndims):\n",
    "    axes = [np.arange(0, length, gridsize)+gridsize/2 for dim in range(ndims)]\n",
    "    return np.meshgrid(*axes)\n",
    "\n",
    "def create_distance_tensor(height, width):\n",
    "    i, j, k, l = np.ogrid[:height, :width, :height, :width]\n",
    "    return np.sqrt((i - k)**2 + (j - l)**2)\n",
    "\n",
    "def preference(dist, std=0.1):\n",
    "    return 1 - np.exp(- dist**2 / (2 * std**2))"
   ]
  },
  {
   "cell_type": "code",
   "execution_count": 60,
   "id": "d3e6e937-461b-45ce-a085-9cea007f4f95",
   "metadata": {},
   "outputs": [],
   "source": [
    "ncells = 30\n",
    "std = 5\n",
    "height, width = ncells, ncells\n",
    "dists = create_distance_tensor(height, width)\n",
    "xv, yv = np.meshgrid(*[np.arange(ncells)]*2)\n",
    "\n",
    "S = preference(dists, std)\n",
    "\n",
    "P0 = np.zeros(xv.shape)\n",
    "M0 = np.zeros(xv.shape)\n",
    "V0 = np.zeros(xv.shape)\n",
    "\n",
    "M0[0, 0] = 1\n",
    "P0[6, 8] = 1\n",
    "V0[12, 16] = 1\n",
    "R0 = 100\n",
    "\n",
    "v = 0.1\n",
    "a = 1\n",
    "h = 1\n",
    "c = 1\n",
    "r_R = 2\n",
    "K_R = 1000\n",
    "dt = 0.1\n",
    "mr = 0.001\n",
    "mr_P = 0.001\n",
    "d = 0.2\n",
    "K_prey=1000\n",
    "r_prey=0.2\n",
    "eta=0.85"
   ]
  },
  {
   "cell_type": "code",
   "execution_count": 61,
   "id": "d62a3ead-0792-4eae-b1be-3d9daece7262",
   "metadata": {},
   "outputs": [
    {
     "name": "stderr",
     "output_type": "stream",
     "text": [
      "  0%|                                                  | 0/9999 [00:00<?, ?it/s]/var/folders/mp/32m29kq1643bw2wj_l7slh380000gn/T/ipykernel_14631/3824566179.py:14: RuntimeWarning: invalid value encountered in divide\n",
      "  v_adj = V * v / T # adjusted venomosity at given phenotype\n",
      "  0%|                                                  | 0/9999 [00:00<?, ?it/s]\n"
     ]
    },
    {
     "ename": "AssertionError",
     "evalue": "-1.6425029494040105e-08",
     "output_type": "error",
     "traceback": [
      "\u001b[0;31m---------------------------------------------------------------------------\u001b[0m",
      "\u001b[0;31mAssertionError\u001b[0m                            Traceback (most recent call last)",
      "Cell \u001b[0;32mIn[61], line 8\u001b[0m\n\u001b[1;32m      5\u001b[0m ngen \u001b[38;5;241m=\u001b[39m \u001b[38;5;241m10000\u001b[39m\n\u001b[1;32m      6\u001b[0m \u001b[38;5;28;01mfor\u001b[39;00m gen \u001b[38;5;129;01min\u001b[39;00m tqdm(\u001b[38;5;28mrange\u001b[39m(\u001b[38;5;241m1\u001b[39m, ngen)):\n\u001b[0;32m----> 8\u001b[0m     P, V, M, R, D \u001b[38;5;241m=\u001b[39m update(S, P_hist[gen\u001b[38;5;241m-\u001b[39m\u001b[38;5;241m1\u001b[39m], V_hist[gen\u001b[38;5;241m-\u001b[39m\u001b[38;5;241m1\u001b[39m], M_hist[gen\u001b[38;5;241m-\u001b[39m\u001b[38;5;241m1\u001b[39m], R_hist[gen\u001b[38;5;241m-\u001b[39m\u001b[38;5;241m1\u001b[39m], \n\u001b[1;32m      9\u001b[0m                         v\u001b[38;5;241m=\u001b[39mv, a\u001b[38;5;241m=\u001b[39ma, h\u001b[38;5;241m=\u001b[39mh, c\u001b[38;5;241m=\u001b[39mc, eta\u001b[38;5;241m=\u001b[39meta, d\u001b[38;5;241m=\u001b[39md, \n\u001b[1;32m     10\u001b[0m                         r_prey\u001b[38;5;241m=\u001b[39mr_prey, K_prey\u001b[38;5;241m=\u001b[39mK_prey, \n\u001b[1;32m     11\u001b[0m                         r_R\u001b[38;5;241m=\u001b[39mr_R, K_R\u001b[38;5;241m=\u001b[39mK_R, \n\u001b[1;32m     12\u001b[0m                         mr\u001b[38;5;241m=\u001b[39mmr, mr_P\u001b[38;5;241m=\u001b[39mmr_P, dt\u001b[38;5;241m=\u001b[39mdt)\n\u001b[1;32m     13\u001b[0m     P_hist\u001b[38;5;241m.\u001b[39mappend(P)\n\u001b[1;32m     14\u001b[0m     V_hist\u001b[38;5;241m.\u001b[39mappend(V)\n",
      "Cell \u001b[0;32mIn[59], line 124\u001b[0m, in \u001b[0;36mupdate\u001b[0;34m(S, P, V, M, R, v, a, h, c, eta, d, r_prey, K_prey, r_R, K_R, mr, mr_P, dt, cutoff)\u001b[0m\n\u001b[1;32m    122\u001b[0m D \u001b[38;5;241m=\u001b[39m P[:, :, \u001b[38;5;28;01mNone\u001b[39;00m, \u001b[38;5;28;01mNone\u001b[39;00m] \u001b[38;5;241m*\u001b[39m D\n\u001b[1;32m    123\u001b[0m \u001b[38;5;66;03m# assert np.all(~np.isnan(D))\u001b[39;00m\n\u001b[0;32m--> 124\u001b[0m P_new \u001b[38;5;241m=\u001b[39m update_predators(P, M, V, R, D, v, a, h, c, ep, eta, d, mr_P, cutoff\u001b[38;5;241m=\u001b[39mcutoff, dt\u001b[38;5;241m=\u001b[39mdt)\n\u001b[1;32m    125\u001b[0m \u001b[38;5;66;03m# assert np.all(~np.isnan(P_new))\u001b[39;00m\n\u001b[1;32m    126\u001b[0m V_new, M_new \u001b[38;5;241m=\u001b[39m update_prey(V, M, D, r_prey, K_prey, mr, cutoff\u001b[38;5;241m=\u001b[39mcutoff, dt\u001b[38;5;241m=\u001b[39mdt)\n",
      "Cell \u001b[0;32mIn[59], line 33\u001b[0m, in \u001b[0;36mupdate_predators\u001b[0;34m(P, M, V, R, D, v, a, h, c, effective_prey, eta, d, mr, cutoff, dt)\u001b[0m\n\u001b[1;32m     30\u001b[0m P_new \u001b[38;5;241m=\u001b[39m P \u001b[38;5;241m+\u001b[39m dP \u001b[38;5;241m*\u001b[39m dt\n\u001b[1;32m     31\u001b[0m P_new[P_new \u001b[38;5;241m<\u001b[39m cutoff] \u001b[38;5;241m=\u001b[39m \u001b[38;5;241m0\u001b[39m\n\u001b[0;32m---> 33\u001b[0m P_new \u001b[38;5;241m=\u001b[39m mutate_phenotype(P_new, mr, dt)\n\u001b[1;32m     35\u001b[0m \u001b[38;5;28;01mreturn\u001b[39;00m P_new\n",
      "Cell \u001b[0;32mIn[59], line 110\u001b[0m, in \u001b[0;36mmutate_phenotype\u001b[0;34m(A, mr, dt)\u001b[0m\n\u001b[1;32m    104\u001b[0m A_padded \u001b[38;5;241m+\u001b[39m\u001b[38;5;241m=\u001b[39m Tx_padded\n\u001b[1;32m    105\u001b[0m update \u001b[38;5;241m=\u001b[39m mr \u001b[38;5;241m*\u001b[39m np\u001b[38;5;241m.\u001b[39mmean([A[:, :, \u001b[38;5;28;01mNone\u001b[39;00m] \u001b[38;5;241m-\u001b[39m A_padded[\u001b[38;5;241m2\u001b[39m:L\u001b[38;5;241m+\u001b[39m\u001b[38;5;241m2\u001b[39m, \u001b[38;5;241m1\u001b[39m:L\u001b[38;5;241m+\u001b[39m\u001b[38;5;241m1\u001b[39m, \u001b[38;5;28;01mNone\u001b[39;00m],\n\u001b[1;32m    106\u001b[0m                   A[:, :, \u001b[38;5;28;01mNone\u001b[39;00m] \u001b[38;5;241m-\u001b[39m A_padded[\u001b[38;5;241m0\u001b[39m:L, \u001b[38;5;241m1\u001b[39m:L\u001b[38;5;241m+\u001b[39m\u001b[38;5;241m1\u001b[39m, \u001b[38;5;28;01mNone\u001b[39;00m],\n\u001b[1;32m    107\u001b[0m                   A[:, :, \u001b[38;5;28;01mNone\u001b[39;00m] \u001b[38;5;241m-\u001b[39m A_padded[\u001b[38;5;241m1\u001b[39m:L\u001b[38;5;241m+\u001b[39m\u001b[38;5;241m1\u001b[39m, \u001b[38;5;241m2\u001b[39m:L\u001b[38;5;241m+\u001b[39m\u001b[38;5;241m2\u001b[39m, \u001b[38;5;28;01mNone\u001b[39;00m],\n\u001b[1;32m    108\u001b[0m                   A[:, :, \u001b[38;5;28;01mNone\u001b[39;00m] \u001b[38;5;241m-\u001b[39m A_padded[\u001b[38;5;241m1\u001b[39m:L\u001b[38;5;241m+\u001b[39m\u001b[38;5;241m1\u001b[39m, \u001b[38;5;241m0\u001b[39m:L, \u001b[38;5;28;01mNone\u001b[39;00m]])\n\u001b[0;32m--> 110\u001b[0m \u001b[38;5;28;01massert\u001b[39;00m np\u001b[38;5;241m.\u001b[39misclose(np\u001b[38;5;241m.\u001b[39msum(update),\u001b[38;5;241m0\u001b[39m), np\u001b[38;5;241m.\u001b[39msum(update)\n\u001b[1;32m    112\u001b[0m \u001b[38;5;28;01mreturn\u001b[39;00m A \u001b[38;5;241m+\u001b[39m update\n",
      "\u001b[0;31mAssertionError\u001b[0m: -1.6425029494040105e-08"
     ]
    }
   ],
   "source": [
    "P_hist = [P0]\n",
    "V_hist = [V0]\n",
    "M_hist = [M0]\n",
    "R_hist = [R0]\n",
    "ngen = 10000\n",
    "for gen in tqdm(range(1, ngen)):\n",
    "    \n",
    "    P, V, M, R, D = update(S, P_hist[gen-1], V_hist[gen-1], M_hist[gen-1], R_hist[gen-1], \n",
    "                        v=v, a=a, h=h, c=c, eta=eta, d=d, \n",
    "                        r_prey=r_prey, K_prey=K_prey, \n",
    "                        r_R=r_R, K_R=K_R, \n",
    "                        mr=mr, mr_P=mr_P, dt=dt)\n",
    "    P_hist.append(P)\n",
    "    V_hist.append(V)\n",
    "    M_hist.append(M)\n",
    "    R_hist.append(R)\n",
    "\n",
    "    if np.isclose(np.sum(P), 0):\n",
    "        break"
   ]
  },
  {
   "cell_type": "code",
   "execution_count": 55,
   "id": "825ceaea-c3fc-4ad3-8d6e-18933f685123",
   "metadata": {},
   "outputs": [
    {
     "data": {
      "text/plain": [
       "<matplotlib.legend.Legend at 0x1284772f0>"
      ]
     },
     "execution_count": 55,
     "metadata": {},
     "output_type": "execute_result"
    },
    {
     "data": {
      "image/png": "[encoded data removed]",
      "text/plain": [
       "<Figure size 600x300 with 1 Axes>"
      ]
     },
     "metadata": {},
     "output_type": "display_data"
    }
   ],
   "source": [
    "fig, ax = plt.subplots(1, 1, figsize=(6, 3))\n",
    "ax.plot([np.sum(p) for p in P_hist], label = 'P')\n",
    "ax.plot([np.sum(v) for v in V_hist], label = 'V')\n",
    "ax.plot([np.sum(m) for m in M_hist], label = 'M')\n",
    "ax.plot([r for r in R_hist], label='R')\n",
    "ax.legend()"
   ]
  },
  {
   "cell_type": "code",
   "execution_count": 20,
   "id": "e433407e-2a04-4989-9ff1-88d2903e243e",
   "metadata": {},
   "outputs": [
    {
     "name": "stderr",
     "output_type": "stream",
     "text": [
      "/var/folders/mp/32m29kq1643bw2wj_l7slh380000gn/T/ipykernel_14631/3486668093.py:2: RuntimeWarning: divide by zero encountered in log\n",
      "  axes[0].pcolormesh(xv, yv, np.log(P), antialiased=False, cmap='magma')\n",
      "/var/folders/mp/32m29kq1643bw2wj_l7slh380000gn/T/ipykernel_14631/3486668093.py:3: RuntimeWarning: divide by zero encountered in log\n",
      "  axes[1].pcolormesh(xv, yv, np.log(V), antialiased=False, cmap='magma')\n",
      "/var/folders/mp/32m29kq1643bw2wj_l7slh380000gn/T/ipykernel_14631/3486668093.py:3: RuntimeWarning: invalid value encountered in log\n",
      "  axes[1].pcolormesh(xv, yv, np.log(V), antialiased=False, cmap='magma')\n",
      "/var/folders/mp/32m29kq1643bw2wj_l7slh380000gn/T/ipykernel_14631/3486668093.py:4: RuntimeWarning: divide by zero encountered in log\n",
      "  axes[2].pcolormesh(xv, yv, np.log(M), antialiased=False, cmap='magma')\n"
     ]
    },
    {
     "data": {
      "text/plain": [
       "<matplotlib.collections.QuadMesh at 0x126654b60>"
      ]
     },
     "execution_count": 20,
     "metadata": {},
     "output_type": "execute_result"
    },
    {
     "data": {
      "image/png": "[encoded data removed]",
      "text/plain": [
       "<Figure size 1300x400 with 3 Axes>"
      ]
     },
     "metadata": {},
     "output_type": "display_data"
    }
   ],
   "source": [
    "fig, axes = plt.subplots(1, 3, figsize=(13,4))\n",
    "axes[0].pcolormesh(xv, yv, np.log(P), antialiased=False, cmap='magma')\n",
    "axes[1].pcolormesh(xv, yv, np.log(V), antialiased=False, cmap='magma')\n",
    "axes[2].pcolormesh(xv, yv, np.log(M), antialiased=False, cmap='magma')\n",
    "\n",
    "# axes[1].pcolormesh(xv, yv, (D.sum(axis=(0,1)) - (V + M)) / (V + M), antialiased=False, cmap='magma')\n",
    "# axes[2].pcolormesh(xv, yv, np.log(V + M), antialiased=False, cmap='magma')"
   ]
  },
  {
   "cell_type": "code",
   "execution_count": 51,
   "id": "b4332858-1446-4265-ade4-36c97bf702a0",
   "metadata": {},
   "outputs": [
    {
     "data": {
      "text/plain": [
       "2.569108011279178e-05"
      ]
     },
     "execution_count": 51,
     "metadata": {},
     "output_type": "execute_result"
    }
   ],
   "source": [
    "np.max(D)"
   ]
  },
  {
   "cell_type": "code",
   "execution_count": 16,
   "id": "10c72e88-fbef-4467-8b99-1ed46bd78d76",
   "metadata": {},
   "outputs": [
    {
     "name": "stderr",
     "output_type": "stream",
     "text": [
      "/var/folders/mp/32m29kq1643bw2wj_l7slh380000gn/T/ipykernel_5594/2102631928.py:18: RuntimeWarning: divide by zero encountered in log\n",
      "  logpop = np.log(pop)\n",
      "/var/folders/mp/32m29kq1643bw2wj_l7slh380000gn/T/ipykernel_5594/2102631928.py:18: RuntimeWarning: divide by zero encountered in log\n",
      "  logpop = np.log(pop)\n",
      "/var/folders/mp/32m29kq1643bw2wj_l7slh380000gn/T/ipykernel_5594/2102631928.py:18: RuntimeWarning: invalid value encountered in log\n",
      "  logpop = np.log(pop)\n"
     ]
    }
   ],
   "source": [
    "from matplotlib import animation\n",
    "steps_per_frame = 10\n",
    "fig, axes = plt.subplots(1, 3, figsize=(13,4))\n",
    "# vmin=0\n",
    "# vmax=5\n",
    "nframes = len(P_hist)\n",
    "def animate(i):\n",
    "    # Remove old points\n",
    "    for ax in axes:\n",
    "        for artist in ax.get_lines()+ax.collections:\n",
    "            artist.remove()\n",
    "\n",
    "    t = i * steps_per_frame\n",
    "    P_t = P_hist[t]\n",
    "    V_t = V_hist[t]\n",
    "    M_t = M_hist[t]\n",
    "    for ax, pop in zip(axes, [P_t, V_t, M_t]):\n",
    "        logpop = np.log(pop)\n",
    "        # logpop[logpop < 0] = 0\n",
    "        pcmap = ax.pcolormesh(xv, yv, logpop, \n",
    "                          antialiased=False, cmap='magma')\n",
    "        ax.xaxis.set_visible(False)\n",
    "        ax.yaxis.set_visible(False)\n",
    "\n",
    "    axes[0].set_title(r\"Predator $d$\")\n",
    "    axes[1].set_title(r\"Venomous $s$\")\n",
    "    axes[2].set_title(r\"Mimic $s$\")\n",
    "\n",
    "    return ax.collections\n",
    "\n",
    "anim = animation.FuncAnimation(fig, animate, \n",
    "                               frames= nframes//steps_per_frame, \n",
    "                               interval=50, blit=True)\n",
    "plt.close()\n",
    "anim.save('continuous_test.gif')"
   ]
  },
  {
   "cell_type": "code",
   "execution_count": null,
   "id": "bb2cd906-de02-4207-b066-2290b881c8d2",
   "metadata": {},
   "outputs": [],
   "source": []
  },
  {
   "cell_type": "code",
   "execution_count": null,
   "id": "2681ba6f-cfce-4523-bb7f-f2d6056bd104",
   "metadata": {},
   "outputs": [],
   "source": []
  }
 ],
 "metadata": {
  "kernelspec": {
   "display_name": "Python 3 (ipykernel)",
   "language": "python",
   "name": "python3"
  },
  "language_info": {
   "codemirror_mode": {
    "name": "ipython",
    "version": 3
   },
   "file_extension": ".py",
   "mimetype": "text/x-python",
   "name": "python",
   "nbconvert_exporter": "python",
   "pygments_lexer": "ipython3",
   "version": "3.12.2"
  }
 },
 "nbformat": 4,
 "nbformat_minor": 5
}
